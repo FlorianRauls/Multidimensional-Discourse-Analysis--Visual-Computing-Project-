{
 "cells": [
  {
   "cell_type": "markdown",
   "metadata": {},
   "source": [
    "Due to changes in the Twitter API this script is not valid/working anymore."
   ]
  },
  {
   "cell_type": "code",
   "execution_count": 1,
   "metadata": {},
   "outputs": [],
   "source": [
    "import pandas as pd\n",
    "import numpy as np\n",
    "import tweepy \n",
    "from tqdm import tqdm_notebook as tqdm\n",
    "import os"
   ]
  },
  {
   "cell_type": "code",
   "execution_count": 2,
   "metadata": {},
   "outputs": [],
   "source": [
    "consumer_token =\"\"\n",
    "consumer_secret =\"\"\n",
    "\n",
    "bear = \"\""
   ]
  },
  {
   "cell_type": "code",
   "execution_count": 3,
   "metadata": {},
   "outputs": [],
   "source": [
    "auth = tweepy.OAuthHandler(consumer_token, consumer_secret)\n",
    "api = tweepy.API(auth, wait_on_rate_limit=True, wait_on_rate_limit_notify=True)\n"
   ]
  },
  {
   "cell_type": "code",
   "execution_count": 4,
   "metadata": {},
   "outputs": [],
   "source": [
    "input_path = '\\\\Data\\\\Input'\n",
    "output_path = '\\\\Data\\\\Output'\n",
    "filename = 'dummy.csv'\n",
    "output_filename = 'output.csv'\n",
    "path = input_path + \"\\\\\" + filename\n",
    "\n",
    "done_file = \"done.csv\"\n",
    "\n",
    "if os.path.isfile(output_path + \"\\\\\" + done_file):\n",
    "    done = pd.read_csv(output_path + \"\\\\\" + done_file)\n",
    "else:\n",
    "    done = pd.DataFrame(columns=['Name'])"
   ]
  },
  {
   "cell_type": "code",
   "execution_count": 5,
   "metadata": {},
   "outputs": [],
   "source": [
    "parse_result = {'id':[], 'text' : [], 'coordinates': [],\n",
    "                'geo': [], 'place': [], 'date':[], 'retweet_count': [], 'retweeted': []}"
   ]
  },
  {
   "cell_type": "code",
   "execution_count": 6,
   "metadata": {},
   "outputs": [],
   "source": [
    "check = pd.read_csv(output_path + \"\\\\\" + output_filename)"
   ]
  },
  {
   "cell_type": "code",
   "execution_count": null,
   "metadata": {},
   "outputs": [
    {
     "data": {
      "application/vnd.jupyter.widget-view+json": {
       "model_id": "e2f2f5c92ef4482087bc2adb380138b5",
       "version_major": 2,
       "version_minor": 0
      },
      "text/plain": [
       "HBox(children=(IntProgress(value=0, max=166), HTML(value='')))"
      ]
     },
     "metadata": {},
     "output_type": "display_data"
    },
    {
     "data": {
      "application/vnd.jupyter.widget-view+json": {
       "model_id": "a1d4c83ca43e423e844787f72bfdd279",
       "version_major": 2,
       "version_minor": 0
      },
      "text/plain": [
       "HBox(children=(IntProgress(value=0, max=533), HTML(value='')))"
      ]
     },
     "metadata": {},
     "output_type": "display_data"
    },
    {
     "data": {
      "application/vnd.jupyter.widget-view+json": {
       "model_id": "fc38331439734e74bb49e8c77553c5a7",
       "version_major": 2,
       "version_minor": 0
      },
      "text/plain": [
       "HBox(children=(IntProgress(value=0, max=538), HTML(value='')))"
      ]
     },
     "metadata": {},
     "output_type": "display_data"
    },
    {
     "data": {
      "application/vnd.jupyter.widget-view+json": {
       "model_id": "5fb80d5d4ede41cea57cd5b23cf9d1ff",
       "version_major": 2,
       "version_minor": 0
      },
      "text/plain": [
       "HBox(children=(IntProgress(value=0, max=542), HTML(value='')))"
      ]
     },
     "metadata": {},
     "output_type": "display_data"
    },
    {
     "data": {
      "application/vnd.jupyter.widget-view+json": {
       "model_id": "e8004b0b61c94815870766a48f8c475e",
       "version_major": 2,
       "version_minor": 0
      },
      "text/plain": [
       "HBox(children=(IntProgress(value=0, max=509), HTML(value='')))"
      ]
     },
     "metadata": {},
     "output_type": "display_data"
    },
    {
     "data": {
      "application/vnd.jupyter.widget-view+json": {
       "model_id": "9dec275e38f8484f9deaa80366f44f44",
       "version_major": 2,
       "version_minor": 0
      },
      "text/plain": [
       "HBox(children=(IntProgress(value=0, max=386), HTML(value='')))"
      ]
     },
     "metadata": {},
     "output_type": "display_data"
    }
   ],
   "source": [
    "\n",
    "for filename in tqdm ( os.listdir(input_path) ):\n",
    "    if not filename in done.Name.values:\n",
    "        path = input_path + \"\\\\\" + filename\n",
    "        dataframe = pd.read_csv(path)\n",
    "        frame_len = len(    dataframe    )\n",
    "        for i in tqdm(   range(    0, frame_len   )   ):\n",
    "            if dataframe.loc[i, dataframe.columns[0]] in check.id.values:\n",
    "                break\n",
    "            try:\n",
    "                tweet = api.get_status(dataframe.loc[i, dataframe.columns[0]])\n",
    "                parse_result['id'].append(tweet.id)\n",
    "                parse_result['text'].append(tweet.text)\n",
    "                parse_result['coordinates'].append(tweet.coordinates)\n",
    "                parse_result['geo'].append(tweet.geo)\n",
    "                parse_result['place'].append(tweet.place)\n",
    "                parse_result['date'].append(tweet.created_at)\n",
    "                parse_result['retweet_count'].append(tweet.retweet_count)\n",
    "                parse_result['retweeted'].append(tweet.retweeted)\n",
    "                parse_result['isRetweet'].append(tweet.isRetweet)\n",
    "                parse_result['targetID'].append(tweet.targetId)\n",
    "            except Exception as e:\n",
    "                pass\n",
    "\n",
    "        outframe = pd.DataFrame.from_dict(parse_result)\n",
    "        outframe.to_csv(output_path + \"\\\\\"+ output_filename, index=False)        "
   ]
  },
  {
   "cell_type": "code",
   "execution_count": null,
   "metadata": {},
   "outputs": [],
   "source": [
    "outframe = pd.DataFrame.from_dict(parse_result)"
   ]
  },
  {
   "cell_type": "code",
   "execution_count": null,
   "metadata": {},
   "outputs": [],
   "source": [
    "outframe.to_csv(output_path + \"\\\\\"+ output_filename, index=False)"
   ]
  },
  {
   "cell_type": "code",
   "execution_count": null,
   "metadata": {},
   "outputs": [],
   "source": []
  }
 ],
 "metadata": {
  "kernelspec": {
   "display_name": "Python 3",
   "language": "python",
   "name": "python3"
  },
  "language_info": {
   "codemirror_mode": {
    "name": "ipython",
    "version": 3
   },
   "file_extension": ".py",
   "mimetype": "text/x-python",
   "name": "python",
   "nbconvert_exporter": "python",
   "pygments_lexer": "ipython3",
   "version": "3.8.5"
  }
 },
 "nbformat": 4,
 "nbformat_minor": 4
}
